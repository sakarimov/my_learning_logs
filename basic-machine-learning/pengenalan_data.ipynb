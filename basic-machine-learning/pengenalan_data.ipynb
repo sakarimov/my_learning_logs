{
  "nbformat": 4,
  "nbformat_minor": 0,
  "metadata": {
    "colab": {
      "provenance": [],
      "include_colab_link": true
    },
    "kernelspec": {
      "name": "python3",
      "display_name": "Python 3"
    },
    "language_info": {
      "name": "python"
    }
  },
  "cells": [
    {
      "cell_type": "markdown",
      "metadata": {
        "id": "view-in-github",
        "colab_type": "text"
      },
      "source": [
        "<a href=\"https://colab.research.google.com/github/sakarimov/my_learning_logs/blob/main/basic-machine-learning/pengenalan_data.ipynb\" target=\"_parent\"><img src=\"https://colab.research.google.com/assets/colab-badge.svg\" alt=\"Open In Colab\"/></a>"
      ]
    },
    {
      "cell_type": "code",
      "execution_count": 1,
      "metadata": {
        "colab": {
          "base_uri": "https://localhost:8080/"
        },
        "id": "UktpaW2w4B-h",
        "outputId": "5a16a250-b87f-4253-ac93-08d447951099"
      },
      "outputs": [
        {
          "output_type": "stream",
          "name": "stdout",
          "text": [
            "Mounted at /content/drive\n"
          ]
        }
      ],
      "source": [
        "from google.colab import drive\n",
        "drive.mount('/content/drive')"
      ]
    },
    {
      "cell_type": "code",
      "source": [
        "import os\n",
        "os.listdir('sample_data')"
      ],
      "metadata": {
        "colab": {
          "base_uri": "https://localhost:8080/"
        },
        "id": "5JeA0ZA9-dk7",
        "outputId": "162627bb-73c8-41e9-946e-9274829b2cc4"
      },
      "execution_count": 2,
      "outputs": [
        {
          "output_type": "execute_result",
          "data": {
            "text/plain": [
              "['README.md',\n",
              " 'anscombe.json',\n",
              " 'california_housing_train.csv',\n",
              " 'mnist_test.csv',\n",
              " 'mnist_train_small.csv',\n",
              " 'california_housing_test.csv']"
            ]
          },
          "metadata": {},
          "execution_count": 2
        }
      ]
    },
    {
      "cell_type": "code",
      "source": [
        "import pandas as pd\n",
        "df = pd.read_csv('sample_data/california_housing_train.csv')\n",
        "df.head()"
      ],
      "metadata": {
        "colab": {
          "base_uri": "https://localhost:8080/",
          "height": 270
        },
        "id": "xbIt_H7o-j9j",
        "outputId": "5561b8ed-10d0-40d2-f2f2-ee0651ccf8a8"
      },
      "execution_count": 1,
      "outputs": [
        {
          "output_type": "execute_result",
          "data": {
            "text/plain": [
              "   longitude  latitude  housing_median_age  total_rooms  total_bedrooms  \\\n",
              "0    -114.31     34.19                15.0       5612.0          1283.0   \n",
              "1    -114.47     34.40                19.0       7650.0          1901.0   \n",
              "2    -114.56     33.69                17.0        720.0           174.0   \n",
              "3    -114.57     33.64                14.0       1501.0           337.0   \n",
              "4    -114.57     33.57                20.0       1454.0           326.0   \n",
              "\n",
              "   population  households  median_income  median_house_value  \n",
              "0      1015.0       472.0         1.4936             66900.0  \n",
              "1      1129.0       463.0         1.8200             80100.0  \n",
              "2       333.0       117.0         1.6509             85700.0  \n",
              "3       515.0       226.0         3.1917             73400.0  \n",
              "4       624.0       262.0         1.9250             65500.0  "
            ],
            "text/html": [
              "\n",
              "  <div id=\"df-1d030de0-7790-429c-8575-5860b8f7f4b6\">\n",
              "    <div class=\"colab-df-container\">\n",
              "      <div>\n",
              "<style scoped>\n",
              "    .dataframe tbody tr th:only-of-type {\n",
              "        vertical-align: middle;\n",
              "    }\n",
              "\n",
              "    .dataframe tbody tr th {\n",
              "        vertical-align: top;\n",
              "    }\n",
              "\n",
              "    .dataframe thead th {\n",
              "        text-align: right;\n",
              "    }\n",
              "</style>\n",
              "<table border=\"1\" class=\"dataframe\">\n",
              "  <thead>\n",
              "    <tr style=\"text-align: right;\">\n",
              "      <th></th>\n",
              "      <th>longitude</th>\n",
              "      <th>latitude</th>\n",
              "      <th>housing_median_age</th>\n",
              "      <th>total_rooms</th>\n",
              "      <th>total_bedrooms</th>\n",
              "      <th>population</th>\n",
              "      <th>households</th>\n",
              "      <th>median_income</th>\n",
              "      <th>median_house_value</th>\n",
              "    </tr>\n",
              "  </thead>\n",
              "  <tbody>\n",
              "    <tr>\n",
              "      <th>0</th>\n",
              "      <td>-114.31</td>\n",
              "      <td>34.19</td>\n",
              "      <td>15.0</td>\n",
              "      <td>5612.0</td>\n",
              "      <td>1283.0</td>\n",
              "      <td>1015.0</td>\n",
              "      <td>472.0</td>\n",
              "      <td>1.4936</td>\n",
              "      <td>66900.0</td>\n",
              "    </tr>\n",
              "    <tr>\n",
              "      <th>1</th>\n",
              "      <td>-114.47</td>\n",
              "      <td>34.40</td>\n",
              "      <td>19.0</td>\n",
              "      <td>7650.0</td>\n",
              "      <td>1901.0</td>\n",
              "      <td>1129.0</td>\n",
              "      <td>463.0</td>\n",
              "      <td>1.8200</td>\n",
              "      <td>80100.0</td>\n",
              "    </tr>\n",
              "    <tr>\n",
              "      <th>2</th>\n",
              "      <td>-114.56</td>\n",
              "      <td>33.69</td>\n",
              "      <td>17.0</td>\n",
              "      <td>720.0</td>\n",
              "      <td>174.0</td>\n",
              "      <td>333.0</td>\n",
              "      <td>117.0</td>\n",
              "      <td>1.6509</td>\n",
              "      <td>85700.0</td>\n",
              "    </tr>\n",
              "    <tr>\n",
              "      <th>3</th>\n",
              "      <td>-114.57</td>\n",
              "      <td>33.64</td>\n",
              "      <td>14.0</td>\n",
              "      <td>1501.0</td>\n",
              "      <td>337.0</td>\n",
              "      <td>515.0</td>\n",
              "      <td>226.0</td>\n",
              "      <td>3.1917</td>\n",
              "      <td>73400.0</td>\n",
              "    </tr>\n",
              "    <tr>\n",
              "      <th>4</th>\n",
              "      <td>-114.57</td>\n",
              "      <td>33.57</td>\n",
              "      <td>20.0</td>\n",
              "      <td>1454.0</td>\n",
              "      <td>326.0</td>\n",
              "      <td>624.0</td>\n",
              "      <td>262.0</td>\n",
              "      <td>1.9250</td>\n",
              "      <td>65500.0</td>\n",
              "    </tr>\n",
              "  </tbody>\n",
              "</table>\n",
              "</div>\n",
              "      <button class=\"colab-df-convert\" onclick=\"convertToInteractive('df-1d030de0-7790-429c-8575-5860b8f7f4b6')\"\n",
              "              title=\"Convert this dataframe to an interactive table.\"\n",
              "              style=\"display:none;\">\n",
              "        \n",
              "  <svg xmlns=\"http://www.w3.org/2000/svg\" height=\"24px\"viewBox=\"0 0 24 24\"\n",
              "       width=\"24px\">\n",
              "    <path d=\"M0 0h24v24H0V0z\" fill=\"none\"/>\n",
              "    <path d=\"M18.56 5.44l.94 2.06.94-2.06 2.06-.94-2.06-.94-.94-2.06-.94 2.06-2.06.94zm-11 1L8.5 8.5l.94-2.06 2.06-.94-2.06-.94L8.5 2.5l-.94 2.06-2.06.94zm10 10l.94 2.06.94-2.06 2.06-.94-2.06-.94-.94-2.06-.94 2.06-2.06.94z\"/><path d=\"M17.41 7.96l-1.37-1.37c-.4-.4-.92-.59-1.43-.59-.52 0-1.04.2-1.43.59L10.3 9.45l-7.72 7.72c-.78.78-.78 2.05 0 2.83L4 21.41c.39.39.9.59 1.41.59.51 0 1.02-.2 1.41-.59l7.78-7.78 2.81-2.81c.8-.78.8-2.07 0-2.86zM5.41 20L4 18.59l7.72-7.72 1.47 1.35L5.41 20z\"/>\n",
              "  </svg>\n",
              "      </button>\n",
              "      \n",
              "  <style>\n",
              "    .colab-df-container {\n",
              "      display:flex;\n",
              "      flex-wrap:wrap;\n",
              "      gap: 12px;\n",
              "    }\n",
              "\n",
              "    .colab-df-convert {\n",
              "      background-color: #E8F0FE;\n",
              "      border: none;\n",
              "      border-radius: 50%;\n",
              "      cursor: pointer;\n",
              "      display: none;\n",
              "      fill: #1967D2;\n",
              "      height: 32px;\n",
              "      padding: 0 0 0 0;\n",
              "      width: 32px;\n",
              "    }\n",
              "\n",
              "    .colab-df-convert:hover {\n",
              "      background-color: #E2EBFA;\n",
              "      box-shadow: 0px 1px 2px rgba(60, 64, 67, 0.3), 0px 1px 3px 1px rgba(60, 64, 67, 0.15);\n",
              "      fill: #174EA6;\n",
              "    }\n",
              "\n",
              "    [theme=dark] .colab-df-convert {\n",
              "      background-color: #3B4455;\n",
              "      fill: #D2E3FC;\n",
              "    }\n",
              "\n",
              "    [theme=dark] .colab-df-convert:hover {\n",
              "      background-color: #434B5C;\n",
              "      box-shadow: 0px 1px 3px 1px rgba(0, 0, 0, 0.15);\n",
              "      filter: drop-shadow(0px 1px 2px rgba(0, 0, 0, 0.3));\n",
              "      fill: #FFFFFF;\n",
              "    }\n",
              "  </style>\n",
              "\n",
              "      <script>\n",
              "        const buttonEl =\n",
              "          document.querySelector('#df-1d030de0-7790-429c-8575-5860b8f7f4b6 button.colab-df-convert');\n",
              "        buttonEl.style.display =\n",
              "          google.colab.kernel.accessAllowed ? 'block' : 'none';\n",
              "\n",
              "        async function convertToInteractive(key) {\n",
              "          const element = document.querySelector('#df-1d030de0-7790-429c-8575-5860b8f7f4b6');\n",
              "          const dataTable =\n",
              "            await google.colab.kernel.invokeFunction('convertToInteractive',\n",
              "                                                     [key], {});\n",
              "          if (!dataTable) return;\n",
              "\n",
              "          const docLinkHtml = 'Like what you see? Visit the ' +\n",
              "            '<a target=\"_blank\" href=https://colab.research.google.com/notebooks/data_table.ipynb>data table notebook</a>'\n",
              "            + ' to learn more about interactive tables.';\n",
              "          element.innerHTML = '';\n",
              "          dataTable['output_type'] = 'display_data';\n",
              "          await google.colab.output.renderOutput(dataTable, element);\n",
              "          const docLink = document.createElement('div');\n",
              "          docLink.innerHTML = docLinkHtml;\n",
              "          element.appendChild(docLink);\n",
              "        }\n",
              "      </script>\n",
              "    </div>\n",
              "  </div>\n",
              "  "
            ]
          },
          "metadata": {},
          "execution_count": 1
        }
      ]
    },
    {
      "cell_type": "code",
      "source": [
        "from sklearn.preprocessing import MinMaxScaler, StandardScaler\n",
        "data = [[12000000, 33], [35000000, 45], [4000000, 23], [6500000, 26], [9000000, 29]]\n",
        "scaler = MinMaxScaler()\n",
        "scaler.fit(data)\n",
        "scaler.transform(data)\n",
        "\n",
        "scaler = StandardScaler()\n",
        "scaler.fit(data)\n",
        "scaler.transform(data)"
      ],
      "metadata": {
        "colab": {
          "base_uri": "https://localhost:8080/"
        },
        "id": "4Eg1IC-f7ieV",
        "outputId": "7b2a421e-ce30-4f1f-c4b9-019a9f1f28ce"
      },
      "execution_count": 8,
      "outputs": [
        {
          "output_type": "execute_result",
          "data": {
            "text/plain": [
              "array([[-0.11638732,  0.23521877],\n",
              "       [ 1.94277296,  1.80334389],\n",
              "       [-0.83261698, -1.07155217],\n",
              "       [-0.60879521, -0.67952089],\n",
              "       [-0.38497344, -0.28748961]])"
            ]
          },
          "metadata": {},
          "execution_count": 8
        }
      ]
    },
    {
      "cell_type": "code",
      "source": [
        "from sklearn.model_selection import train_test_split\n",
        "\n",
        "X_data = range(10)\n",
        "y_data = range(10)\n",
        "\n",
        "print ('random state ditemukan')\n",
        "for i in range(3):\n",
        "  x_train, x_test, y_train, y_test = train_test_split(X_data, y_data, test_size=0.3, random_state=42)\n",
        "  print(y_test)\n",
        "\n",
        "print ('random state tidak ditemukan')\n",
        "for i in range(3):\n",
        "  x_train, x_test, y_train, y_test = train_test_split(X_data, y_data, test_size=0.3, random_state=None)\n",
        "  print(y_test)\n"
      ],
      "metadata": {
        "colab": {
          "base_uri": "https://localhost:8080/"
        },
        "id": "0Tn9cgWWDWE-",
        "outputId": "54b0d712-739c-435a-ec63-4345b39e8570"
      },
      "execution_count": 11,
      "outputs": [
        {
          "output_type": "stream",
          "name": "stdout",
          "text": [
            "random state ditemukan\n",
            "[8, 1, 5]\n",
            "[8, 1, 5]\n",
            "[8, 1, 5]\n",
            "random state tidak ditemukan\n",
            "[5, 1, 7]\n",
            "[0, 8, 4]\n",
            "[0, 3, 1]\n"
          ]
        }
      ]
    },
    {
      "cell_type": "code",
      "source": [
        "import sklearn\n",
        "from sklearn import datasets\n",
        "from sklearn.model_selection import train_test_split\n",
        "\n",
        "iris = datasets.load_iris()\n",
        "\n",
        "x = iris.data\n",
        "y = iris.target\n",
        "\n",
        "x_train, x_test, y_train, y_test = train_test_split(x, y, test_size=0.2, random_state=1)\n",
        "\n",
        "print(x_train, x_test, y_train, y_test, sep = '\\n')"
      ],
      "metadata": {
        "colab": {
          "base_uri": "https://localhost:8080/"
        },
        "id": "WjuHEUEdE9hT",
        "outputId": "7ffd25c0-e0a1-46cb-fa93-b61890f686e8"
      },
      "execution_count": 15,
      "outputs": [
        {
          "output_type": "stream",
          "name": "stdout",
          "text": [
            "[[6.1 3.  4.6 1.4]\n",
            " [7.7 3.  6.1 2.3]\n",
            " [5.6 2.5 3.9 1.1]\n",
            " [6.4 2.8 5.6 2.1]\n",
            " [5.8 2.8 5.1 2.4]\n",
            " [5.3 3.7 1.5 0.2]\n",
            " [5.5 2.3 4.  1.3]\n",
            " [5.2 3.4 1.4 0.2]\n",
            " [6.5 2.8 4.6 1.5]\n",
            " [6.7 2.5 5.8 1.8]\n",
            " [6.8 3.  5.5 2.1]\n",
            " [5.1 3.5 1.4 0.3]\n",
            " [6.  2.2 5.  1.5]\n",
            " [6.3 2.9 5.6 1.8]\n",
            " [6.6 2.9 4.6 1.3]\n",
            " [7.7 2.6 6.9 2.3]\n",
            " [5.7 3.8 1.7 0.3]\n",
            " [5.  3.6 1.4 0.2]\n",
            " [4.8 3.  1.4 0.3]\n",
            " [5.2 2.7 3.9 1.4]\n",
            " [5.1 3.4 1.5 0.2]\n",
            " [5.5 3.5 1.3 0.2]\n",
            " [7.7 3.8 6.7 2.2]\n",
            " [6.9 3.1 5.4 2.1]\n",
            " [7.3 2.9 6.3 1.8]\n",
            " [6.4 2.8 5.6 2.2]\n",
            " [6.2 2.8 4.8 1.8]\n",
            " [6.  3.4 4.5 1.6]\n",
            " [7.7 2.8 6.7 2. ]\n",
            " [5.7 3.  4.2 1.2]\n",
            " [4.8 3.4 1.6 0.2]\n",
            " [5.7 2.5 5.  2. ]\n",
            " [6.3 2.7 4.9 1.8]\n",
            " [4.8 3.  1.4 0.1]\n",
            " [4.7 3.2 1.3 0.2]\n",
            " [6.5 3.  5.8 2.2]\n",
            " [4.6 3.4 1.4 0.3]\n",
            " [6.1 3.  4.9 1.8]\n",
            " [6.5 3.2 5.1 2. ]\n",
            " [6.7 3.1 4.4 1.4]\n",
            " [5.7 2.8 4.5 1.3]\n",
            " [6.7 3.3 5.7 2.5]\n",
            " [6.  3.  4.8 1.8]\n",
            " [5.1 3.8 1.6 0.2]\n",
            " [6.  2.2 4.  1. ]\n",
            " [6.4 2.9 4.3 1.3]\n",
            " [6.5 3.  5.5 1.8]\n",
            " [5.  2.3 3.3 1. ]\n",
            " [6.3 3.3 6.  2.5]\n",
            " [5.5 2.5 4.  1.3]\n",
            " [5.4 3.7 1.5 0.2]\n",
            " [4.9 3.1 1.5 0.2]\n",
            " [5.2 4.1 1.5 0.1]\n",
            " [6.7 3.3 5.7 2.1]\n",
            " [4.4 3.  1.3 0.2]\n",
            " [6.  2.7 5.1 1.6]\n",
            " [6.4 2.7 5.3 1.9]\n",
            " [5.9 3.  5.1 1.8]\n",
            " [5.2 3.5 1.5 0.2]\n",
            " [5.1 3.3 1.7 0.5]\n",
            " [5.8 2.7 4.1 1. ]\n",
            " [4.9 3.1 1.5 0.1]\n",
            " [7.4 2.8 6.1 1.9]\n",
            " [6.2 2.9 4.3 1.3]\n",
            " [7.6 3.  6.6 2.1]\n",
            " [6.7 3.  5.2 2.3]\n",
            " [6.3 2.3 4.4 1.3]\n",
            " [6.2 3.4 5.4 2.3]\n",
            " [7.2 3.6 6.1 2.5]\n",
            " [5.6 2.9 3.6 1.3]\n",
            " [5.7 4.4 1.5 0.4]\n",
            " [5.8 2.7 3.9 1.2]\n",
            " [4.5 2.3 1.3 0.3]\n",
            " [5.5 2.4 3.8 1.1]\n",
            " [6.9 3.1 4.9 1.5]\n",
            " [5.  3.4 1.6 0.4]\n",
            " [6.8 2.8 4.8 1.4]\n",
            " [5.  3.5 1.6 0.6]\n",
            " [4.8 3.4 1.9 0.2]\n",
            " [6.3 3.4 5.6 2.4]\n",
            " [5.6 2.8 4.9 2. ]\n",
            " [6.8 3.2 5.9 2.3]\n",
            " [5.  3.3 1.4 0.2]\n",
            " [5.1 3.7 1.5 0.4]\n",
            " [5.9 3.2 4.8 1.8]\n",
            " [4.6 3.1 1.5 0.2]\n",
            " [5.8 2.7 5.1 1.9]\n",
            " [4.8 3.1 1.6 0.2]\n",
            " [6.5 3.  5.2 2. ]\n",
            " [4.9 2.5 4.5 1.7]\n",
            " [4.6 3.2 1.4 0.2]\n",
            " [6.4 3.2 5.3 2.3]\n",
            " [4.3 3.  1.1 0.1]\n",
            " [5.6 3.  4.1 1.3]\n",
            " [4.4 2.9 1.4 0.2]\n",
            " [5.5 2.4 3.7 1. ]\n",
            " [5.  2.  3.5 1. ]\n",
            " [5.1 3.5 1.4 0.2]\n",
            " [4.9 3.  1.4 0.2]\n",
            " [4.9 2.4 3.3 1. ]\n",
            " [4.6 3.6 1.  0.2]\n",
            " [5.9 3.  4.2 1.5]\n",
            " [6.1 2.9 4.7 1.4]\n",
            " [5.  3.4 1.5 0.2]\n",
            " [6.7 3.1 4.7 1.5]\n",
            " [5.7 2.9 4.2 1.3]\n",
            " [6.2 2.2 4.5 1.5]\n",
            " [7.  3.2 4.7 1.4]\n",
            " [5.8 2.7 5.1 1.9]\n",
            " [5.4 3.4 1.7 0.2]\n",
            " [5.  3.  1.6 0.2]\n",
            " [6.1 2.6 5.6 1.4]\n",
            " [6.1 2.8 4.  1.3]\n",
            " [7.2 3.  5.8 1.6]\n",
            " [5.7 2.6 3.5 1. ]\n",
            " [6.3 2.8 5.1 1.5]\n",
            " [6.4 3.1 5.5 1.8]\n",
            " [6.3 2.5 4.9 1.5]\n",
            " [6.7 3.1 5.6 2.4]\n",
            " [4.9 3.6 1.4 0.1]]\n",
            "[[5.8 4.  1.2 0.2]\n",
            " [5.1 2.5 3.  1.1]\n",
            " [6.6 3.  4.4 1.4]\n",
            " [5.4 3.9 1.3 0.4]\n",
            " [7.9 3.8 6.4 2. ]\n",
            " [6.3 3.3 4.7 1.6]\n",
            " [6.9 3.1 5.1 2.3]\n",
            " [5.1 3.8 1.9 0.4]\n",
            " [4.7 3.2 1.6 0.2]\n",
            " [6.9 3.2 5.7 2.3]\n",
            " [5.6 2.7 4.2 1.3]\n",
            " [5.4 3.9 1.7 0.4]\n",
            " [7.1 3.  5.9 2.1]\n",
            " [6.4 3.2 4.5 1.5]\n",
            " [6.  2.9 4.5 1.5]\n",
            " [4.4 3.2 1.3 0.2]\n",
            " [5.8 2.6 4.  1.2]\n",
            " [5.6 3.  4.5 1.5]\n",
            " [5.4 3.4 1.5 0.4]\n",
            " [5.  3.2 1.2 0.2]\n",
            " [5.5 2.6 4.4 1.2]\n",
            " [5.4 3.  4.5 1.5]\n",
            " [6.7 3.  5.  1.7]\n",
            " [5.  3.5 1.3 0.3]\n",
            " [7.2 3.2 6.  1.8]\n",
            " [5.7 2.8 4.1 1.3]\n",
            " [5.5 4.2 1.4 0.2]\n",
            " [5.1 3.8 1.5 0.3]\n",
            " [6.1 2.8 4.7 1.2]\n",
            " [6.3 2.5 5.  1.9]]\n",
            "[1 2 1 2 2 0 1 0 1 2 2 0 2 2 1 2 0 0 0 1 0 0 2 2 2 2 2 1 2 1 0 2 2 0 0 2 0\n",
            " 2 2 1 1 2 2 0 1 1 2 1 2 1 0 0 0 2 0 1 2 2 0 0 1 0 2 1 2 2 1 2 2 1 0 1 0 1\n",
            " 1 0 1 0 0 2 2 2 0 0 1 0 2 0 2 2 0 2 0 1 0 1 1 0 0 1 0 1 1 0 1 1 1 1 2 0 0\n",
            " 2 1 2 1 2 2 1 2 0]\n",
            "[0 1 1 0 2 1 2 0 0 2 1 0 2 1 1 0 1 1 0 0 1 1 1 0 2 1 0 0 1 2]\n"
          ]
        }
      ]
    },
    {
      "cell_type": "code",
      "source": [
        "import sklearn\n",
        "from sklearn import datasets\n",
        "\n",
        "iris = datasets.load_iris()\n",
        "\n",
        "x = iris.data\n",
        "y = iris.target\n",
        "\n",
        "from sklearn import tree\n",
        "\n",
        "clf = tree.DecisionTreeClassifier()\n",
        "\n",
        "from sklearn.model_selection import cross_val_score\n",
        "\n",
        "scores = cross_val_score(clf, x, y, cv=5)\n",
        "scores"
      ],
      "metadata": {
        "colab": {
          "base_uri": "https://localhost:8080/"
        },
        "id": "C8B8Ne_gG0JO",
        "outputId": "343c8e7d-36d6-4c8f-dd8d-71d756c2c505"
      },
      "execution_count": 16,
      "outputs": [
        {
          "output_type": "execute_result",
          "data": {
            "text/plain": [
              "array([0.96666667, 0.96666667, 0.9       , 0.96666667, 1.        ])"
            ]
          },
          "metadata": {},
          "execution_count": 16
        }
      ]
    }
  ]
}